
{
 "metadata": {
  "name": ""
 },
 "nbformat": 3,
 "nbformat_minor": 0,
 "worksheets": [
  {
   "cells": [
    {
     "cell_type": "code",
     "collapsed": false,
     "input": [
      "# -*- coding: utf-8 -*-"
     ],
     "language": "python",
     "metadata": {},
     "outputs": [],
     "prompt_number": 42
    },
    {
     "cell_type": "code",
     "collapsed": false,
     "input": [
      "import string\n",
      "import nltk\n",
      "import numpy as np\n",
      "from nltk.stem.porter import *\n",
      "from nltk.corpus import stopwords\n",
      "import sklearn\n",
      "from sklearn.metrics.pairwise import cosine_similarity\n",
      "from sklearn.feature_extraction.text import TfidfVectorizer\n",
      "from nltk.metrics import windowdiff"
     ],
     "language": "python",
     "metadata": {},
     "outputs": [],
     "prompt_number": 43
    },
    {
     "cell_type": "code",
     "collapsed": false,
     "input": [
      "#Function to plot graphs required for Text Tiling Algorithm\n",
      "def plot_fig(x,score,heading,fig_no):\n",
      "    fig = plt.figure(fig_no,figsize=(10,6))\n",
      "    ax = fig.add_subplot(111)\n",
      "    ax.plot(x,score,label=heading)\n",
      "    ax.legend()"
     ],
     "language": "python",
     "metadata": {},
     "outputs": [],
     "prompt_number": 44
    },
    {
     "cell_type": "code",
     "collapsed": false,
     "input": [
      "#Open file in python\n",
      "\n",
      "f = open('alien-life.txt','r')\n",
      "doc=f.read()\n",
      "f.close()\n",
      "# The em-dash(long hyphen) is not recognised by ASCII. So, it is replaced with the hyphen.\n",
      "if \"\u2014\" in doc:\n",
      "    doc = doc.replace(\"\u2014\", \"-\")\n",
      "#The original encoding of the text-file is in utf-8 format.So decoding the string from utf-8\n",
      "doc=doc.decode('utf-8')\n",
      "#Encoding it into ascii format\n",
      "doc=doc.encode('ascii','ignore')\n",
      "doc=doc.lower()"
     ],
     "language": "python",
     "metadata": {},
     "outputs": [],
     "prompt_number": 45
    },
    {
     "cell_type": "code",
     "collapsed": false,
     "input": [
      "#Saving a copy of original corpus along with the $$ sign to be later used for Windowdiff measure\n",
      "doc_copy=doc\n",
      "ref_word=[]\n",
      "p = re.compile(r'(\\n)|(\\r)|(\\t)|([!\"#%&()*+,-./:;<=>?@\\[\\\\\\]^_`{|}~])', re.IGNORECASE)\n",
      "doc_copy=re.sub(p,' ',doc_copy)\n",
      "stemmer=PorterStemmer()\n",
      "for word in doc_copy.split(\" \"):\n",
      "    if word not in stopwords.words('english') and stemmer.stem_word(word) not in stopwords.words('english'):\n",
      "        if word!=\" \" and word!=\"\":\n",
      "            ref_word.append(stemmer.stem_word(word))"
     ],
     "language": "python",
     "metadata": {},
     "outputs": [],
     "prompt_number": 46
    },
    {
     "cell_type": "heading",
     "level": 3,
     "metadata": {},
     "source": [
      "TextTiling Algorithm"
     ]
    },
    {
     "cell_type": "code",
     "collapsed": false,
     "input": [
      "#Preparation for TextTiling Algorithm Implementation\n",
      "#Stripping punctuation\n",
      "#Removing new-line characters and punctuations\n",
      "p = re.compile(r'(\\n)|(\\r)|(\\t)|([!\"#$%&()*+,-./:;<=>?@\\[\\\\\\]^_`{|}~])', re.IGNORECASE)\n",
      "doc=re.sub(p,' ',doc)"
     ],
     "language": "python",
     "metadata": {},
     "outputs": [],
     "prompt_number": 47
    },
    {
     "cell_type": "code",
     "collapsed": false,
     "input": [
      "#Sen_length represents the desired sentence length that we are focusing on \n",
      "#Doc represents the corpus of text\n",
      "#Fig no represents the figure no that we want to give to the graph\n",
      "def text_tiling(doc,sen_len,fig_no):\n",
      "    \n",
      "    #Porter Stemming and removing stop words\n",
      "    stemmer=PorterStemmer() \n",
      "    sentences=[]\n",
      "    sentence=\"\"\n",
      "    j=0\n",
      "    for word in doc.split(\" \"):\n",
      "        if word not in stopwords.words('english') and word!=\" \" and word!=\"\":\n",
      "            j=j+1\n",
      "            sentence=sentence + stemmer.stem_word(word)+' '\n",
      "            if j==sen_len:\n",
      "                # -1 is to prevent the whitespace that is appended at the end to be included in the sentence\n",
      "                sentences.append(sentence[:-1])\n",
      "                sentence=\"\"\n",
      "                j=0\n",
      "    #If the last sentence is of length less than sen_length\n",
      "    sentences.append(sentence[:-1])\n",
      " \n",