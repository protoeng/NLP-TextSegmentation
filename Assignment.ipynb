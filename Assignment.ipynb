
{
 "metadata": {
  "name": ""
 },
 "nbformat": 3,
 "nbformat_minor": 0,
 "worksheets": [
  {
   "cells": [
    {
     "cell_type": "code",
     "collapsed": false,
     "input": [
      "# -*- coding: utf-8 -*-"
     ],
     "language": "python",
     "metadata": {},
     "outputs": [],
     "prompt_number": 42
    },
    {
     "cell_type": "code",
     "collapsed": false,
     "input": [
      "import string\n",
      "import nltk\n",
      "import numpy as np\n",
      "from nltk.stem.porter import *\n",
      "from nltk.corpus import stopwords\n",
      "import sklearn\n",
      "from sklearn.metrics.pairwise import cosine_similarity\n",
      "from sklearn.feature_extraction.text import TfidfVectorizer\n",
      "from nltk.metrics import windowdiff"
     ],
     "language": "python",
     "metadata": {},
     "outputs": [],
     "prompt_number": 43
    },
    {
     "cell_type": "code",
     "collapsed": false,
     "input": [
      "#Function to plot graphs required for Text Tiling Algorithm\n",
      "def plot_fig(x,score,heading,fig_no):\n",
      "    fig = plt.figure(fig_no,figsize=(10,6))\n",
      "    ax = fig.add_subplot(111)\n",
      "    ax.plot(x,score,label=heading)\n",
      "    ax.legend()"
     ],
     "language": "python",
     "metadata": {},
     "outputs": [],
     "prompt_number": 44
    },
    {
     "cell_type": "code",
     "collapsed": false,
     "input": [
      "#Open file in python\n",
      "\n",
      "f = open('alien-life.txt','r')\n",
      "doc=f.read()\n",
      "f.close()\n",
      "# The em-dash(long hyphen) is not recognised by ASCII. So, it is replaced with the hyphen.\n",
      "if \"\u2014\" in doc:\n",
      "    doc = doc.replace(\"\u2014\", \"-\")\n",
      "#The original encoding of the text-file is in utf-8 format.So decoding the string from utf-8\n",
      "doc=doc.decode('utf-8')\n",
      "#Encoding it into ascii format\n",
      "doc=doc.encode('ascii','ignore')\n",
      "doc=doc.lower()"
     ],
     "language": "python",
     "metadata": {},
     "outputs": [],
     "prompt_number": 45
    },
    {
     "cell_type": "code",
     "collapsed": false,
     "input": [
      "#Saving a copy of original corpus along with the $$ sign to be later used for Windowdiff measure\n",
      "doc_copy=doc\n",
      "ref_word=[]\n",
      "p = re.compile(r'(\\n)|(\\r)|(\\t)|([!\"#%&()*+,-./:;<=>?@\\[\\\\\\]^_`{|}~])', re.IGNORECASE)\n",
      "doc_copy=re.sub(p,' ',doc_copy)\n",
      "stemmer=PorterStemmer()\n",
      "for word in doc_copy.split(\" \"):\n",
      "    if word not in stopwords.words('english') and stemmer.stem_word(word) not in stopwords.words('english'):\n",
      "        if word!=\" \" and word!=\"\":\n",
      "            ref_word.append(stemmer.stem_word(word))"
     ],
     "language": "python",
     "metadata": {},
     "outputs": [],
     "prompt_number": 46
    },
    {
     "cell_type": "heading",
     "level": 3,
     "metadata": {},
     "source": [
      "TextTiling Algorithm"
     ]
    },
    {
     "cell_type": "code",
     "collapsed": false,
     "input": [
      "#Preparation for TextTiling Algorithm Implementation\n",
      "#Stripping punctuation\n",
      "#Removing new-line characters and punctuations\n",
      "p = re.compile(r'(\\n)|(\\r)|(\\t)|([!\"#$%&()*+,-./:;<=>?@\\[\\\\\\]^_`{|}~])', re.IGNORECASE)\n",
      "doc=re.sub(p,' ',doc)"
     ],
     "language": "python",
     "metadata": {},
     "outputs": [],
     "prompt_number": 47
    },
    {
     "cell_type": "code",
     "collapsed": false,
     "input": [
      "#Sen_length represents the desired sentence length that we are focusing on \n",
      "#Doc represents the corpus of text\n",
      "#Fig no represents the figure no that we want to give to the graph\n",
      "def text_tiling(doc,sen_len,fig_no):\n",
      "    \n",
      "    #Porter Stemming and removing stop words\n",
      "    stemmer=PorterStemmer() \n",
      "    sentences=[]\n",
      "    sentence=\"\"\n",
      "    j=0\n",
      "    for word in doc.split(\" \"):\n",
      "        if word not in stopwords.words('english') and word!=\" \" and word!=\"\":\n",
      "            j=j+1\n",
      "            sentence=sentence + stemmer.stem_word(word)+' '\n",
      "            if j==sen_len:\n",
      "                # -1 is to prevent the whitespace that is appended at the end to be included in the sentence\n",
      "                sentences.append(sentence[:-1])\n",
      "                sentence=\"\"\n",
      "                j=0\n",
      "    #If the last sentence is of length less than sen_length\n",
      "    sentences.append(sentence[:-1])\n",
      " \n",
      "    #Vectorizing Sentences using Sklearn to determine Cosine Similarity between adjacent sentences\n",
      "    tfidf_vectorizer = TfidfVectorizer()\n",
      "    tfidf_matrix = tfidf_vectorizer.fit_transform(sentences)\n",
      "    score=[]\n",
      "    for i in range(0,tfidf_matrix.shape[0]-2):\n",
      "        score.append(cosine_similarity(tfidf_matrix[i:i+1], tfidf_matrix[i+1:i+2])[0][0])\n",
      "    \n",
      "    #Plotting Cosine Similarity \n",
      "    plot_fig(range(1,tfidf_matrix.shape[0]-1),score,'Lexical Similarity with Sentence Length '+ str(sen_len),fig_no)\n",
      "    \n",
      "    #Implementing Windowdiff measure\n",
      "    mean_score=np.mean(score)\n",
      "    std_score=np.std(score)\n",
      "    #Threshold is defined as Mean Score - Standard Deviation\n",
      "    threshold=mean_score-std_score\n",
      "    boundary=[]\n",
      "    for i in range(0,len(score)-2): \n",
      "        #score[0] represents the cosine similarity between sentence 1 and sentence 2, score[1] between 2 and 3 and score[2] between 3 and 4\n",
      "        #If depth is greater than threshold, then there will be a dissimilariy between sentence 2 and sentence 3, so we are marking sentence 2 as the boundary\n",
      "        depth=score[i]-score[i+1]+score[i+2]-score[i+1]\n",
      "        if depth>=threshold:\n",
      "            boundary.append(i+1) #Storing positions of Sentences that represent a boundary\n",
      "    #Replacing boundaries with 1 and words with 0\n",
      "    boundary_string=''\n",
      "    for i in range(0,len(sentences)):\n",
      "        boundary_string=boundary_string+sentences[i]+' '\n",
      "        if i in boundary:\n",
      "            boundary_string=boundary_string+' $$ '  \n",
      "        \n",
      "    return boundary_string\n"
     ],
     "language": "python",
     "metadata": {},
     "outputs": [],
     "prompt_number": 48
    },
    {
     "cell_type": "heading",
     "level": 3,
     "metadata": {},
     "source": [
      "Windowdiff Measure"
     ]
    },
    {
     "cell_type": "code",
     "collapsed": false,
     "input": [
      "def window_diff(ref_word,doc,sen_len,fig_no):\n",
      "    #Call to TextTiling Function\n",
      "    hypo=text_tiling(doc,sen_len,fig_no)\n",
      "    #Splitting Hypothesis Words\n",
      "    hypo_words=[word for word in hypo.split(' ') if word!='' and word not in stopwords.words('english')]\n",
      "    #Storing supervised input\n",
      "    para_words=ref_word\n",
      "    i=0\n",
      "    j=0\n",
      "    hypo_string=''\n",
      "    para_string=''\n",
      "    # What this loop does can be explained by an example: Suppose we have total of 3 words and \n",
      "    # we have boundaries after two words in hypothesis  (hey man $$ yep) and after one word in training( hey $$ man yep)\n",
      "    # so this would represent hypothesis string as 00010(0(hey)0($$ in reference)0(man)1($$ in hypothesis)0(yep)) \n",
      "    # reference string as 01000 (0(hey)1($$ in ref)0(man)0($$ in hypothesis)0(yep))\n",
      "    while i<len(hypo_words) and j<len(para_words):\n",
      "        if hypo_words[i]==para_words[j]:\n",
      "            hypo_string=hypo_string+'0'\n",
      "            para_string=para_string+'0'\n",
      "            i=i+1\n",
      "            j=j+1\n",
      "        elif hypo_words[i]=='$$':\n",
      "            hypo_string=hypo_string+'1'\n",
      "            para_string=para_string+'0'\n",
      "            i=i+1\n",
      "        elif para_words[j]=='$$':\n",
      "            hypo_string=hypo_string+'0'\n",
      "            para_string=para_string+'1'\n",
      "            j=j+1\n",
      "    \n",
      "    #Small windows produce more negatives, thus WindowDiff recommends using a window size (k) of half the average segment length.\n",
      "    #Referred from this paper: Getting More from Segmentation Evaluation\n",
      "    \n",
      "    k=sen_len/2\n",
      "    return ('%.2f' % windowdiff(hypo_string,para_string,k))"
     ],
     "language": "python",
     "metadata": {},
     "outputs": [],
     "prompt_number": 49
    },
    {
     "cell_type": "code",
     "collapsed": false,
     "input": [
      "window_diff_score=[]\n",
      "for i in range(10,110,10):\n",
      "    window_diff_score.append(window_diff(ref_word,doc,i,i/10))\n",
      "#plot_fig(range(10,110,10),window_diff_score,'Windowdiff Score variation with Change in Sentence Length')"
     ],
     "language": "python",
     "metadata": {},
     "outputs": [
      {
       "metadata": {},
       "output_type": "display_data",
       "png": "iVBORw0KGgoAAAANSUhEUgAAAlsAAAFwCAYAAACPRr4ZAAAABHNCSVQICAgIfAhkiAAAAAlwSFlz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\nAAAASUVORK5CYII=\n",