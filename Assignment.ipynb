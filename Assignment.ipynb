
{
 "metadata": {
  "name": ""
 },
 "nbformat": 3,
 "nbformat_minor": 0,
 "worksheets": [
  {
   "cells": [
    {
     "cell_type": "code",
     "collapsed": false,
     "input": [
      "# -*- coding: utf-8 -*-"
     ],
     "language": "python",
     "metadata": {},
     "outputs": [],
     "prompt_number": 42
    },
    {
     "cell_type": "code",
     "collapsed": false,
     "input": [
      "import string\n",
      "import nltk\n",
      "import numpy as np\n",
      "from nltk.stem.porter import *\n",
      "from nltk.corpus import stopwords\n",
      "import sklearn\n",
      "from sklearn.metrics.pairwise import cosine_similarity\n",
      "from sklearn.feature_extraction.text import TfidfVectorizer\n",
      "from nltk.metrics import windowdiff"
     ],
     "language": "python",
     "metadata": {},
     "outputs": [],
     "prompt_number": 43
    },
    {
     "cell_type": "code",
     "collapsed": false,
     "input": [
      "#Function to plot graphs required for Text Tiling Algorithm\n",
      "def plot_fig(x,score,heading,fig_no):\n",
      "    fig = plt.figure(fig_no,figsize=(10,6))\n",
      "    ax = fig.add_subplot(111)\n",
      "    ax.plot(x,score,label=heading)\n",
      "    ax.legend()"
     ],
     "language": "python",
     "metadata": {},
     "outputs": [],
     "prompt_number": 44
    },
    {
     "cell_type": "code",
     "collapsed": false,
     "input": [
      "#Open file in python\n",
      "\n",
      "f = open('alien-life.txt','r')\n",
      "doc=f.read()\n",
      "f.close()\n",
      "# The em-dash(long hyphen) is not recognised by ASCII. So, it is replaced with the hyphen.\n",
      "if \"\u2014\" in doc:\n",
      "    doc = doc.replace(\"\u2014\", \"-\")\n",
      "#The original encoding of the text-file is in utf-8 format.So decoding the string from utf-8\n",
      "doc=doc.decode('utf-8')\n",
      "#Encoding it into ascii format\n",
      "doc=doc.encode('ascii','ignore')\n",